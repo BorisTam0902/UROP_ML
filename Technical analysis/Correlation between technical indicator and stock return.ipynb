{
 "cells": [
  {
   "cell_type": "code",
   "execution_count": 2,
   "metadata": {},
   "outputs": [],
   "source": [
    "import csv"
   ]
  },
  {
   "cell_type": "code",
   "execution_count": 34,
   "metadata": {},
   "outputs": [
    {
     "name": "stdout",
     "output_type": "stream",
     "text": [
      "107.400002\n"
     ]
    }
   ],
   "source": [
    "with open(\"0001.HK.csv\") as csv_file:\n",
    "    csv_reader = csv.reader(csv_file, delimiter=',')\n",
    "    next(csv_reader)\n",
    "    open_price = []\n",
    "    close_price = []\n",
    "    high_price = []\n",
    "    low_price = []\n",
    "    volume = []\n",
    "    ma_15days = []\n",
    "    rsi = []\n",
    "    daily_return = []\n",
    "    macd = []\n",
    "    signal = []\n",
    "    for row in csv_reader:\n",
    "        open_price.append(row[3])\n",
    "        close_price.append(row[2])\n",
    "        high_price.append(row[4])\n",
    "        low_price.append(row[5])\n",
    "        volume.append(row[7])\n",
    "        daily_return.append(row[9])\n",
    "        ma_15days.append(row[16])\n",
    "        rsi.append(row[17])\n",
    "        macd.append(row[24])\n",
    "        signal.append(row[25])\n",
    "    daily_return[0] = 0\n",
    "    for i in range(15):\n",
    "        ma_15days[i] = 0\n",
    "        rsi[i] = 0\n",
    "    for i in range(25):\n",
    "        macd[i] = 0\n",
    "    for i in range(33):\n",
    "        signal[i] = 0\n",
    "    for i in range(len(open_price)):\n",
    "        open_price[i] = float(open_price[i])\n",
    "        close_price[i] = float(close_price[i])\n",
    "        high_price[i] = float(high_price[i])\n",
    "        low_price[i] = float(low_price[i])\n",
    "        volume[i] = float(volume[i])\n",
    "        daily_return[i] = float(daily_return[i])\n",
    "        ma_15days[i] = float(ma_15days[i])\n",
    "        rsi[i] = float(rsi[i])\n",
    "        macd[i] = float(macd[i])\n",
    "        signal[i] = float(signal[i])\n",
    "print(close_price[0])"
   ]
  },
  {
   "cell_type": "markdown",
   "metadata": {},
   "source": [
    "# We will first see correlation between different indicators and the return in t+1, t+2, ..."
   ]
  },
  {
   "cell_type": "code",
   "execution_count": 47,
   "metadata": {},
   "outputs": [
    {
     "name": "stdout",
     "output_type": "stream",
     "text": [
      "Corr( RSI, RET(t + 1 ) )= 0.0377\n",
      "Corr( RSI, RET(t + 2 ) )= 0.0212\n",
      "Corr( RSI, RET(t + 3 ) )= 0.024\n",
      "Corr( RSI, RET(t + 4 ) )= 0.0349\n",
      "Corr( RSI, RET(t + 5 ) )= 0.0318\n",
      "Corr( RSI, RET(t + 6 ) )= 0.0348\n",
      "Corr( RSI, RET(t + 7 ) )= 0.0467\n",
      "Corr( RSI, RET(t + 8 ) )= 0.0312\n",
      "Corr( RSI, RET(t + 9 ) )= 0.0138\n",
      "Corr( RSI, RET(t + 10 ) )= -0.0099\n",
      "Corr( RSI, RET(t + 11 ) )= -0.0455\n",
      "Corr( RSI, RET(t + 12 ) )= -0.0604\n",
      "Corr( RSI, RET(t + 13 ) )= -0.0565\n",
      "Corr( RSI, RET(t + 14 ) )= -0.0452\n",
      "Corr( RSI, RET(t + 15 ) )= -0.0483\n",
      "Corr( RSI, RET(t + 16 ) )= -0.0388\n",
      "Corr( RSI, RET(t + 17 ) )= -0.0587\n",
      "Corr( RSI, RET(t + 18 ) )= -0.0502\n",
      "Corr( RSI, RET(t + 19 ) )= -0.0336\n",
      "Corr( RSI, RET(t + 20 ) )= -0.0485\n"
     ]
    }
   ],
   "source": [
    "for j in range(1,21):\n",
    "    x_axis = []\n",
    "    y_axis = []\n",
    "    for i in range(100,600):\n",
    "        x_axis.append(rsi[i])\n",
    "        y_axis.append(daily_return[i+j])\n",
    "    x_axis = np.array(x_axis)\n",
    "    y_axis = np.array(y_axis)\n",
    "    r = round(np.corrcoef(x_axis, y_axis)[0][1],4)\n",
    "    print(\"Corr( RSI, RET(t +\",j,\") )=\",r)"
   ]
  },
  {
   "cell_type": "code",
   "execution_count": 36,
   "metadata": {},
   "outputs": [
    {
     "name": "stdout",
     "output_type": "stream",
     "text": [
      "The correlation of macd histogram with return in t + 1 is 0.0124\n",
      "The correlation of macd histogram with return in t + 2 is 0.007\n",
      "The correlation of macd histogram with return in t + 3 is 0.0255\n",
      "The correlation of macd histogram with return in t + 4 is 0.0394\n",
      "The correlation of macd histogram with return in t + 5 is 0.0413\n",
      "The correlation of macd histogram with return in t + 6 is 0.0512\n",
      "The correlation of macd histogram with return in t + 7 is 0.0572\n",
      "The correlation of macd histogram with return in t + 8 is 0.0586\n",
      "The correlation of macd histogram with return in t + 9 is 0.0407\n",
      "The correlation of macd histogram with return in t + 10 is 0.0154\n",
      "The correlation of macd histogram with return in t + 11 is 0.0065\n",
      "The correlation of macd histogram with return in t + 12 is 0.0142\n",
      "The correlation of macd histogram with return in t + 13 is 0.0191\n",
      "The correlation of macd histogram with return in t + 14 is 0.0037\n",
      "The correlation of macd histogram with return in t + 15 is -0.0066\n",
      "The correlation of macd histogram with return in t + 16 is -0.0149\n",
      "The correlation of macd histogram with return in t + 17 is -0.0212\n",
      "The correlation of macd histogram with return in t + 18 is -0.0315\n",
      "The correlation of macd histogram with return in t + 19 is -0.0329\n",
      "The correlation of macd histogram with return in t + 20 is -0.0308\n"
     ]
    }
   ],
   "source": [
    "for j in range(1,21):\n",
    "    x_axis = []\n",
    "    y_axis = []\n",
    "    for i in range(100,600):\n",
    "        x_axis.append(macd[i]-signal[i])\n",
    "        y_axis.append(daily_return[i+j])\n",
    "    x_axis = np.array(x_axis)\n",
    "    y_axis = np.array(y_axis)\n",
    "    r = round(np.corrcoef(x_axis, y_axis)[0][1],4)\n",
    "    print(\"The correlation of macd histogram with return in t +\",j,\"is\",r)"
   ]
  },
  {
   "cell_type": "code",
   "execution_count": 37,
   "metadata": {},
   "outputs": [
    {
     "name": "stdout",
     "output_type": "stream",
     "text": [
      "The correlation between  1  days average macd and 10-day return is  -0.1646\n",
      "The correlation between  2  days average macd and 10-day return is  -0.169\n",
      "The correlation between  3  days average macd and 10-day return is  -0.175\n",
      "The correlation between  4  days average macd and 10-day return is  -0.1827\n",
      "The correlation between  5  days average macd and 10-day return is  -0.1918\n",
      "The correlation between  6  days average macd and 10-day return is  -0.2015\n",
      "The correlation between  7  days average macd and 10-day return is  -0.2116\n",
      "The correlation between  8  days average macd and 10-day return is  -0.2215\n",
      "The correlation between  9  days average macd and 10-day return is  -0.2309\n",
      "The correlation between  10  days average macd and 10-day return is  -0.2395\n",
      "The correlation between  11  days average macd and 10-day return is  -0.2468\n"
     ]
    }
   ],
   "source": [
    "for j in range (1,12):\n",
    "    \n",
    "    average_macd_list = []\n",
    "    for i in range (len(macd_dict[j])):\n",
    "        average_macd_list.append(sum(macd_dict[j][i])/j) #storing macd average of 10 lookback days\n",
    "    y_list = list(ten_day_return.values()) #storing ten-day returns\n",
    "    x_axis = []\n",
    "    y_axis = []\n",
    "    for i in range(100,600): #run a regression of the above two sets of data using by taking samples of index number 100 to 599\n",
    "        x_axis.append(average_macd_list[i])\n",
    "        y_axis.append(y_list[i])\n",
    "    x_axis = np.array(x_axis)\n",
    "    y_axis = np.array(y_axis)\n",
    "    r = round(np.corrcoef(x_axis, y_axis)[0][1],4)\n",
    "    print(\"The correlation between \",j ,\" days average macd and 10-day return is \" , r)"
   ]
  },
  {
   "cell_type": "markdown",
   "metadata": {},
   "source": [
    "# In the following we will first store the data of indicators with different lookback periods"
   ]
  },
  {
   "cell_type": "code",
   "execution_count": 38,
   "metadata": {},
   "outputs": [],
   "source": [
    "# store different length of rsi14 value\n",
    "rsi_dict = {}\n",
    "for i in range(1,51): #iterate through 1 to 50 lookback periods\n",
    "    rsi_collection = []\n",
    "    for j in range(51,len(rsi)-1): #iterate through the first date to the last\n",
    "        daily_value = []\n",
    "        for k in range(j-i,j): #this would create a list with the length of lookback period\n",
    "            daily_value.append(rsi[k])\n",
    "        rsi_collection.append(daily_value)\n",
    "    rsi_dict[i] = rsi_collection #rsi_dict[i] would store the data of rsi with lookback period of i days\n",
    "#print(rsi_dict[10]) #display a number of lists that contain 10 rsi data back"
   ]
  },
  {
   "cell_type": "code",
   "execution_count": 39,
   "metadata": {},
   "outputs": [],
   "source": [
    "# store different length of macd value\n",
    "macd_dict = {}\n",
    "for i in range(1,51):\n",
    "    macd_collection = []\n",
    "    for j in range(51,len(macd)-1):\n",
    "        daily_value = []\n",
    "        for k in range(j-i ,j):\n",
    "            daily_value.append(macd[k])\n",
    "        macd_collection.append(daily_value)\n",
    "    macd_dict[i] = macd_collection\n",
    "#print(macd_dict[10])"
   ]
  },
  {
   "cell_type": "code",
   "execution_count": 40,
   "metadata": {},
   "outputs": [],
   "source": [
    "signal_dict = {}\n",
    "for i in range(1,51):\n",
    "    signal_collection = []\n",
    "    for j in range(51,len(signal)-1):\n",
    "        daily_value = []\n",
    "        for k in range(j-i,j):\n",
    "            daily_value.append(signal[k])\n",
    "        signal_collection.append(daily_value)\n",
    "    signal_dict[i] = signal_collection\n",
    "#print(signal_dict[10])"
   ]
  },
  {
   "cell_type": "code",
   "execution_count": 41,
   "metadata": {},
   "outputs": [],
   "source": [
    "# Store different windows of daily return\n",
    "one_day_return = {}\n",
    "five_day_return = {}\n",
    "ten_day_return = {}\n",
    "for i in range(52,len(daily_return)):\n",
    "    one_day_return[i] = daily_return[i]\n",
    "for i in range(52,len(daily_return)):\n",
    "    five_day_actual_return = 1\n",
    "    for j in range(5):\n",
    "        five_day_actual_return = five_day_actual_return * (1 + daily_return[(i+j) if (i+j) <= len(daily_return) - 1 else len(daily_return) - 1])\n",
    "    five_day_return[i] = five_day_actual_return\n",
    "for i in range(52,len(daily_return)):\n",
    "    ten_day_actual_return = 1\n",
    "    for j in range(10):\n",
    "        ten_day_actual_return = ten_day_actual_return * (1 + daily_return[(i+j) if (i+j) <= len(daily_return) - 1 else len(daily_return) - 1])\n",
    "    ten_day_return[i] = ten_day_actual_return\n",
    "#print(ten_day_return)"
   ]
  },
  {
   "cell_type": "markdown",
   "metadata": {},
   "source": [
    "# Calculate the correlation of different length window of rsi and macd value to the 1-day, 5-day, 10-day stock return"
   ]
  },
  {
   "cell_type": "code",
   "execution_count": 42,
   "metadata": {},
   "outputs": [],
   "source": [
    "import numpy as np"
   ]
  },
  {
   "cell_type": "code",
   "execution_count": 9,
   "metadata": {
    "scrolled": true
   },
   "outputs": [
    {
     "name": "stdout",
     "output_type": "stream",
     "text": [
      "The correlation is  -0.2395\n"
     ]
    }
   ],
   "source": [
    "#to see how the average of macd corrlates with 10-day return data\n",
    "average_macd_list = []\n",
    "for i in range (len(macd_dict[10])):\n",
    "    average_macd_list.append(sum(macd_dict[10][i])/10) #storing macd average of 10 lookback days\n",
    "y_list = list(ten_day_return.values()) #storing ten-day returns\n",
    "x_axis = []\n",
    "y_axis = []\n",
    "for i in range(100,600): #run a regression of the above two sets of data using by taking samples of index number 100 to 599\n",
    "    x_axis.append(average_macd_list[i])\n",
    "    y_axis.append(y_list[i])\n",
    "x_axis = np.array(x_axis)\n",
    "y_axis = np.array(y_axis)\n",
    "r = round(np.corrcoef(x_axis, y_axis)[0][1],4)\n",
    "print(\"The correlation is \" , r)"
   ]
  },
  {
   "cell_type": "code",
   "execution_count": null,
   "metadata": {},
   "outputs": [],
   "source": []
  },
  {
   "cell_type": "code",
   "execution_count": 11,
   "metadata": {},
   "outputs": [
    {
     "name": "stdout",
     "output_type": "stream",
     "text": [
      "The correlation between 5 days average macd and 5-day return is  -0.1028\n"
     ]
    }
   ],
   "source": [
    "average_macd_list_five = []\n",
    "for i in range (len(macd_dict[5])):\n",
    "    average_macd_list_five.append(sum(macd_dict[5][i])/5)\n",
    "y_list = list(five_day_return.values())\n",
    "x_axis = []\n",
    "y_axis = []\n",
    "for i in range(100,600):\n",
    "    x_axis.append(average_macd_list_five[i])\n",
    "    y_axis.append(y_list[i])\n",
    "x_axis = np.array(x_axis)\n",
    "y_axis = np.array(y_axis)\n",
    "r = round(np.corrcoef(x_axis, y_axis)[0][1],4)\n",
    "print(\"The correlation between 5 days average macd and 5-day return is \" , r)"
   ]
  },
  {
   "cell_type": "code",
   "execution_count": 12,
   "metadata": {},
   "outputs": [
    {
     "name": "stdout",
     "output_type": "stream",
     "text": [
      "-0.2556\n"
     ]
    }
   ],
   "source": [
    "average_signal_list = []\n",
    "for i in range (len(signal_dict[10])):\n",
    "    average_signal_list.append(sum(signal_dict[10][i])/10)\n",
    "y_list = list(ten_day_return.values())\n",
    "x_axis = []\n",
    "y_axis = []\n",
    "for i in range(100,600):\n",
    "    x_axis.append(average_signal_list[i])\n",
    "    y_axis.append(y_list[i])\n",
    "x_axis = np.array(x_axis)\n",
    "y_axis = np.array(y_axis)\n",
    "r = round(np.corrcoef(x_axis, y_axis)[0][1],4)\n",
    "print(r)"
   ]
  },
  {
   "cell_type": "code",
   "execution_count": 13,
   "metadata": {},
   "outputs": [
    {
     "name": "stdout",
     "output_type": "stream",
     "text": [
      "[[ 1.         -0.13131592]\n",
      " [-0.13131592  1.        ]]\n"
     ]
    }
   ],
   "source": [
    "average_signal_list_five = []\n",
    "for i in range (len(signal_dict[5])):\n",
    "    average_signal_list_five.append(sum(signal_dict[5][i])/5)\n",
    "y_list = list(five_day_return.values())\n",
    "x_axis = []\n",
    "y_axis = []\n",
    "for i in range(100,600):\n",
    "    x_axis.append(average_signal_list_five[i])\n",
    "    y_axis.append(y_list[i])\n",
    "x_axis = np.array(x_axis)\n",
    "y_axis = np.array(y_axis)\n",
    "r = np.corrcoef(x_axis, y_axis)\n",
    "print(r)"
   ]
  },
  {
   "cell_type": "code",
   "execution_count": 14,
   "metadata": {},
   "outputs": [
    {
     "name": "stdout",
     "output_type": "stream",
     "text": [
      "[[ 1.         -0.12087886]\n",
      " [-0.12087886  1.        ]]\n"
     ]
    }
   ],
   "source": [
    "average_rsi_list = []\n",
    "for i in range (len(rsi_dict[10])):\n",
    "    average_rsi_list.append(sum(rsi_dict[10][i])/10)\n",
    "y_list = list(ten_day_return.values())\n",
    "x_axis = []\n",
    "y_axis = []\n",
    "for i in range(100,600):\n",
    "    x_axis.append(average_rsi_list[i])\n",
    "    y_axis.append(y_list[i])\n",
    "x_axis = np.array(x_axis)\n",
    "y_axis = np.array(y_axis)\n",
    "r = np.corrcoef(x_axis, y_axis)\n",
    "print(r)"
   ]
  },
  {
   "cell_type": "code",
   "execution_count": 16,
   "metadata": {},
   "outputs": [
    {
     "name": "stdout",
     "output_type": "stream",
     "text": [
      "[[1.        0.0299568]\n",
      " [0.0299568 1.       ]]\n"
     ]
    }
   ],
   "source": [
    "average_rsi_list_five = []\n",
    "for i in range (len(rsi_dict[5])):\n",
    "    average_rsi_list_five.append(sum(rsi_dict[5][i])/5)\n",
    "y_list = list(five_day_return.values())\n",
    "x_axis = []\n",
    "y_axis = []\n",
    "for i in range(100,600):\n",
    "    x_axis.append(average_rsi_list_five[i])\n",
    "    y_axis.append(y_list[i])\n",
    "x_axis = np.array(x_axis)\n",
    "y_axis = np.array(y_axis)\n",
    "r = np.corrcoef(x_axis, y_axis)\n",
    "print(r)"
   ]
  },
  {
   "cell_type": "code",
   "execution_count": 17,
   "metadata": {},
   "outputs": [],
   "source": [
    "from sklearn.linear_model import LinearRegression"
   ]
  },
  {
   "cell_type": "code",
   "execution_count": 18,
   "metadata": {},
   "outputs": [
    {
     "name": "stdout",
     "output_type": "stream",
     "text": [
      "867\n",
      "867\n"
     ]
    }
   ],
   "source": [
    "macd_curve = []\n",
    "new_daily_return = daily_return[33:900]\n",
    "for i in range(33,900):\n",
    "    macd_curve.append(macd[i]-signal[i])\n",
    "print(len(macd_curve))\n",
    "print(len(new_daily_return))"
   ]
  },
  {
   "cell_type": "code",
   "execution_count": 19,
   "metadata": {},
   "outputs": [],
   "source": [
    "x_axis = np.array(macd_curve).reshape(-1,1)\n",
    "y_axis = np.array(new_daily_return)"
   ]
  },
  {
   "cell_type": "code",
   "execution_count": 20,
   "metadata": {},
   "outputs": [],
   "source": [
    "model = LinearRegression()\n",
    "model.fit(x_axis, y_axis)\n",
    "r_sq = model.score(x_axis, y_axis)"
   ]
  },
  {
   "cell_type": "code",
   "execution_count": 21,
   "metadata": {},
   "outputs": [
    {
     "name": "stdout",
     "output_type": "stream",
     "text": [
      "alpha: 0.00014656692622987008\n",
      "beta: 0.021284616148906785\n",
      "r squared value: 0.027964288169629925\n"
     ]
    }
   ],
   "source": [
    "print('alpha:', model.intercept_)\n",
    "print('beta:', float(model.coef_))\n",
    "print('r squared value:', r_sq)"
   ]
  },
  {
   "cell_type": "code",
   "execution_count": 22,
   "metadata": {
    "scrolled": false
   },
   "outputs": [],
   "source": [
    "#class sklearn.linear_model.LinearRegression(*, fit_intercept=True, normalize=False, copy_X=True, n_jobs=None)"
   ]
  },
  {
   "cell_type": "code",
   "execution_count": 23,
   "metadata": {
    "scrolled": true
   },
   "outputs": [
    {
     "ename": "TypeError",
     "evalue": "fit() missing 1 required positional argument: 'y'",
     "output_type": "error",
     "traceback": [
      "\u001b[1;31m---------------------------------------------------------------------------\u001b[0m",
      "\u001b[1;31mTypeError\u001b[0m                                 Traceback (most recent call last)",
      "\u001b[1;32m<ipython-input-23-0031ab7aeb8d>\u001b[0m in \u001b[0;36m<module>\u001b[1;34m\u001b[0m\n\u001b[0;32m      2\u001b[0m \u001b[1;31m#rsi_dict[50][i]\u001b[0m\u001b[1;33m\u001b[0m\u001b[1;33m\u001b[0m\u001b[1;33m\u001b[0m\u001b[0m\n\u001b[0;32m      3\u001b[0m \u001b[1;32mfor\u001b[0m \u001b[0mi\u001b[0m \u001b[1;32min\u001b[0m \u001b[0mrange\u001b[0m\u001b[1;33m(\u001b[0m\u001b[1;36m21\u001b[0m\u001b[1;33m)\u001b[0m\u001b[1;33m:\u001b[0m\u001b[1;33m\u001b[0m\u001b[1;33m\u001b[0m\u001b[0m\n\u001b[1;32m----> 4\u001b[1;33m     \u001b[0mmodel\u001b[0m \u001b[1;33m=\u001b[0m \u001b[0mLinearRegression\u001b[0m\u001b[1;33m(\u001b[0m\u001b[1;33m)\u001b[0m\u001b[1;33m.\u001b[0m\u001b[0mfit\u001b[0m\u001b[1;33m(\u001b[0m\u001b[0mrsi_dict\u001b[0m\u001b[1;33m[\u001b[0m\u001b[1;36m50\u001b[0m\u001b[1;33m]\u001b[0m\u001b[1;33m[\u001b[0m\u001b[0mi\u001b[0m\u001b[1;33m]\u001b[0m\u001b[1;33m,\u001b[0m \u001b[1;33m)\u001b[0m\u001b[1;33m\u001b[0m\u001b[1;33m\u001b[0m\u001b[0m\n\u001b[0m",
      "\u001b[1;31mTypeError\u001b[0m: fit() missing 1 required positional argument: 'y'"
     ]
    }
   ],
   "source": [
    "from sklearn.linear_model import LinearRegression\n",
    "#rsi_dict[50][i]\n",
    "for i in range(21):\n",
    "    model = LinearRegression().fit(rsi_dict[50][i], )"
   ]
  },
  {
   "cell_type": "code",
   "execution_count": null,
   "metadata": {},
   "outputs": [],
   "source": []
  },
  {
   "cell_type": "code",
   "execution_count": null,
   "metadata": {},
   "outputs": [],
   "source": []
  }
 ],
 "metadata": {
  "kernelspec": {
   "display_name": "Python 3",
   "language": "python",
   "name": "python3"
  },
  "language_info": {
   "codemirror_mode": {
    "name": "ipython",
    "version": 3
   },
   "file_extension": ".py",
   "mimetype": "text/x-python",
   "name": "python",
   "nbconvert_exporter": "python",
   "pygments_lexer": "ipython3",
   "version": "3.8.3"
  }
 },
 "nbformat": 4,
 "nbformat_minor": 4
}
