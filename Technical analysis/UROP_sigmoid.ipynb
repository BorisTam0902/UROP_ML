{
 "cells": [
  {
   "cell_type": "code",
   "execution_count": 36,
   "metadata": {},
   "outputs": [],
   "source": [
    "import numpy as np\n",
    "import tensorflow as tf\n",
    "import pandas as pd\n",
    "import matplotlib.pyplot as plt\n",
    "import csv\n",
    "import keras\n",
    "from sklearn.datasets import load_iris\n",
    "from sklearn.linear_model import LogisticRegression\n",
    "from keras.layers import Dense, Activation, Flatten\n",
    "from keras.layers.advanced_activations import LeakyReLU"
   ]
  },
  {
   "cell_type": "code",
   "execution_count": 37,
   "metadata": {},
   "outputs": [],
   "source": [
    "with open(\"0700.HK.csv\") as csv_file: ### Modify this part to try different stocks\n",
    "    csv_reader = csv.reader(csv_file, delimiter=',')\n",
    "    next(csv_reader)\n",
    "    open_price = []\n",
    "    close_price = []\n",
    "    high_price = []\n",
    "    low_price = []\n",
    "    volume = []\n",
    "    ma_15days = []\n",
    "    rsi = []\n",
    "    daily_return = []\n",
    "    macd = []\n",
    "    signal = []\n",
    "    for row in csv_reader:\n",
    "        open_price.append(row[3])\n",
    "        close_price.append(row[2])\n",
    "        high_price.append(row[4])\n",
    "        low_price.append(row[5])\n",
    "        volume.append(row[7])\n",
    "        daily_return.append(row[9])\n",
    "        ma_15days.append(row[16])\n",
    "        rsi.append(row[17])\n",
    "        macd.append(row[24])\n",
    "        signal.append(row[25])\n",
    "    daily_return[0] = 0\n",
    "    for i in range(15):\n",
    "        ma_15days[i] = 0\n",
    "        rsi[i] = 0\n",
    "    for i in range(25):\n",
    "        macd[i] = 0\n",
    "    for i in range(33):\n",
    "        signal[i] = 0\n",
    "    for i in range(len(open_price)):\n",
    "        open_price[i] = float(open_price[i])\n",
    "        close_price[i] = float(close_price[i])\n",
    "        high_price[i] = float(high_price[i])\n",
    "        low_price[i] = float(low_price[i])\n",
    "        volume[i] = float(volume[i])\n",
    "        daily_return[i] = float(daily_return[i])\n",
    "        ma_15days[i] = float(ma_15days[i])\n",
    "        rsi[i] = float(rsi[i])\n",
    "        macd[i] = float(macd[i])\n",
    "        signal[i] = float(signal[i])"
   ]
  },
  {
   "cell_type": "code",
   "execution_count": 38,
   "metadata": {},
   "outputs": [
    {
     "data": {
      "text/plain": [
       "[<matplotlib.lines.Line2D at 0x1d71a464580>]"
      ]
     },
     "execution_count": 38,
     "metadata": {},
     "output_type": "execute_result"
    },
    {
     "data": {
      "image/png": "[encoded data removed]",
      "text/plain": [
       "<Figure size 432x288 with 1 Axes>"
      ]
     },
     "metadata": {
      "needs_background": "light"
     },
     "output_type": "display_data"
    }
   ],
   "source": [
    "plt.plot(close_price)"
   ]
  },
  {
   "cell_type": "code",
   "execution_count": 39,
   "metadata": {},
   "outputs": [],
   "source": [
    "return_level = []\n",
    "for i in range(36,401):\n",
    "    if daily_return[i] >= 0:\n",
    "        return_level.append(1)\n",
    "    elif daily_return[i] <0:\n",
    "        return_level.append(0)"
   ]
  },
  {
   "cell_type": "code",
   "execution_count": 40,
   "metadata": {},
   "outputs": [],
   "source": [
    "training_sets = []\n",
    "training_label = []\n",
    "Close = [[], [], [], [], []] #5 lists for 5 days closing prices\n",
    "MA15 = [[], [], [], [], []]\n",
    "RSI = [[], [], [], [], []]\n",
    "Vol = [[], [], [], [], []]\n",
    "MACD = [[], [], [], [], []]\n",
    "Sig = [[], [], [], [], []]\n",
    "for i in range(len(return_level)):\n",
    "    training_label.append(return_level[i])\n",
    "for i in range(35, 400):\n",
    "    for j in range(5):\n",
    "        #Open.append(open_price[i+j-4])\n",
    "        Close[j].append(float(close_price[i+j-4]))\n",
    "        #High_list.append(high_price[i+j-4])\n",
    "        #_list.append(low_price[i+j-4])\n",
    "        MA15[j].append(float(ma_15days[i+j-4]))\n",
    "        RSI[j].append(float(rsi[i+j-4]))\n",
    "        Vol[j].append(float(volume[i+j-4]))\n",
    "        MACD[j].append(float(macd[i+j-4]))\n",
    "        Sig[j].append(float(signal[i+j-4]))\n",
    "for j in range(5):\n",
    "    training_sets.append(Close[j])\n",
    "    training_sets.append(MA15[j])\n",
    "    training_sets.append(RSI[j])\n",
    "    training_sets.append(Vol[j])\n",
    "    training_sets.append(MACD[j])\n",
    "    training_sets.append(Sig[j])\n",
    "    #print(Close[2])\n",
    "training_sets = np.array(training_sets)\n",
    "training_label = np.array(training_label)"
   ]
  },
  {
   "cell_type": "code",
   "execution_count": 41,
   "metadata": {},
   "outputs": [],
   "source": [
    "def sigmoid(z):\n",
    "    s = 1/(1+np.exp(-z))\n",
    "    return s"
   ]
  },
  {
   "cell_type": "code",
   "execution_count": 42,
   "metadata": {},
   "outputs": [],
   "source": [
    "def layer_sizes(X,Y):\n",
    "    n_x = X.shape[0]\n",
    "    n_h = 5 # it is the number of neurons in the hidden unit\n",
    "    n_y = Y.shape[0]\n",
    "    return (n_x,n_h,n_y)"
   ]
  },
  {
   "cell_type": "code",
   "execution_count": 43,
   "metadata": {},
   "outputs": [],
   "source": [
    "def initialize_parameters(n_x,n_h,n_y):\n",
    "    np.random.seed(1)\n",
    "    W1 = np.random.randn(n_h,n_x)*0.01\n",
    "    W2 = np.random.randn(n_y,n_h)\n",
    "    b1 = np.zeros((n_h,1))\n",
    "    b2 = np.zeros((n_y,1))\n",
    "    parameters = { \"W1\": W1,\"W2\": W2,\"b1\": b1,\"b2\": b2 }\n",
    "    \n",
    "    assert (W1.shape == (n_h, n_x))\n",
    "    assert (b1.shape == (n_h, 1))\n",
    "    assert (W2.shape == (n_y, n_h))\n",
    "    assert (b2.shape == (n_y, 1))\n",
    "    return parameters"
   ]
  },
  {
   "cell_type": "code",
   "execution_count": 44,
   "metadata": {},
   "outputs": [],
   "source": [
    "def forward_propagation(X,parameters):\n",
    "    W1 = parameters[\"W1\"]\n",
    "    W2 = parameters[\"W2\"]\n",
    "    b1 = parameters[\"b1\"]\n",
    "    b2 = parameters[\"b2\"]\n",
    "    \n",
    "    Z1 = np.dot(W1,X)+b1\n",
    "    A1 = np.tanh(Z1)\n",
    "    Z2 = np.dot(W2,A1)+b2\n",
    "    #Z2 = np.sum(Z2,axis=0,keepdims=True)\n",
    "    A2 = sigmoid(Z2)\n",
    "    \n",
    "    assert(A2.shape == (1, X.shape[1]))\n",
    "    \n",
    "    cache = {\"Z1\":Z1, \"Z2\":Z2, \"A1\":A1, \"A2\":A2}\n",
    "    return A2, cache"
   ]
  },
  {
   "cell_type": "code",
   "execution_count": 45,
   "metadata": {},
   "outputs": [],
   "source": [
    "def cost(A2, Y, parameters):\n",
    "    #compute cost using cross-entropy\n",
    "    m = Y.shape[1]\n",
    "    logprobs = np.multiply(np.log(A2),Y)+np.multiply(np.log(1-A2),1-Y)\n",
    "    cost = -1/m*np.sum(logprobs)\n",
    "    cost = float(np.squeeze(cost))\n",
    "    \n",
    "    return cost"
   ]
  },
  {
   "cell_type": "code",
   "execution_count": 46,
   "metadata": {},
   "outputs": [],
   "source": [
    "def backward_propagation(parameters, cache, X, Y):\n",
    "    m = X.shape[1]\n",
    "    W1 = parameters[\"W1\"]\n",
    "    W2 = parameters[\"W2\"]\n",
    "    A1 = cache[\"A1\"]\n",
    "    A2 = cache[\"A2\"]\n",
    "    \n",
    "    dZ2 = A2 - Y\n",
    "    dW2 = 1/m*np.dot(dZ2,A1.T)\n",
    "    db2 = 1/m*np.sum(dZ2, axis=1, keepdims = True)\n",
    "    dZ1 = np.dot(W2.T,dZ2)*(1-np.power(A1,2))\n",
    "    dW1 = 1/m*np.dot(dZ1,X.T)\n",
    "    db1 = 1/m*np.sum(dZ1, axis=1, keepdims=True)\n",
    "    grads = {\"dW1\":dW1, \"db1\":db1, \"dW2\":dW2, \"db2\":db2}\n",
    "    \n",
    "    return grads"
   ]
  },
  {
   "cell_type": "code",
   "execution_count": 47,
   "metadata": {},
   "outputs": [],
   "source": [
    "def update_parameters(parameters, grads, learning_rate = 0.01):\n",
    "    W1 = parameters[\"W1\"]\n",
    "    b1 = parameters[\"b1\"]\n",
    "    W2 = parameters[\"W2\"]\n",
    "    b2 = parameters[\"b2\"]\n",
    "    \n",
    "    dW1 = grads[\"dW1\"]\n",
    "    db1 = grads[\"db1\"]\n",
    "    dW2 = grads[\"dW2\"]\n",
    "    db2 = grads[\"db2\"]\n",
    "    \n",
    "    W1 = W1 - learning_rate*dW1\n",
    "    b1 = b1 - learning_rate*db1\n",
    "    W2 = W2 - learning_rate*dW2\n",
    "    b2 = b2 - learning_rate*db2\n",
    "    parameters = {\"W1\": W1, \"b1\": b1, \"W2\": W2, \"b2\": b2}\n",
    "    \n",
    "    return parameters"
   ]
  },
  {
   "cell_type": "code",
   "execution_count": 48,
   "metadata": {},
   "outputs": [],
   "source": [
    "def nn_model(X, Y, n_h, num_iterations = 10000, print_cost=False):    \n",
    "    np.random.seed(1)\n",
    "    n_x = layer_sizes(X, Y)[0]\n",
    "    n_y = layer_sizes(X, Y)[2]\n",
    "    \n",
    "    parameters = initialize_parameters(n_x,n_h,n_y)\n",
    "    \n",
    "    for i in range(0, num_iterations):\n",
    "        A2, cache = forward_propagation(X, parameters)\n",
    "        costs = cost(A2, Y, parameters)\n",
    "        grads = backward_propagation(parameters, cache, X, Y)\n",
    "        parameters = update_parameters(parameters, grads, learning_rate = 0.0008)\n",
    "        \n",
    "        if print_cost and i % 1000 == 0:\n",
    "            print (\"Cost after iteration %i: %f\" %(i, costs))\n",
    "    return parameters"
   ]
  },
  {
   "cell_type": "code",
   "execution_count": 49,
   "metadata": {},
   "outputs": [
    {
     "name": "stdout",
     "output_type": "stream",
     "text": [
      "Cost after iteration 0: 1.193943\n",
      "Cost after iteration 1000: 1.076587\n",
      "Cost after iteration 2000: 1.010674\n",
      "Cost after iteration 3000: 0.959623\n",
      "Cost after iteration 4000: 0.915508\n",
      "Cost after iteration 5000: 0.876639\n",
      "Cost after iteration 6000: 0.842763\n",
      "Cost after iteration 7000: 0.813842\n",
      "Cost after iteration 8000: 0.789713\n",
      "Cost after iteration 9000: 0.770020\n",
      "Cost after iteration 10000: 0.754254\n",
      "Cost after iteration 11000: 0.741831\n",
      "Cost after iteration 12000: 0.732157\n",
      "Cost after iteration 13000: 0.724683\n",
      "Cost after iteration 14000: 0.718931\n",
      "Cost after iteration 15000: 0.714501\n",
      "Cost after iteration 16000: 0.711074\n",
      "Cost after iteration 17000: 0.708399\n",
      "Cost after iteration 18000: 0.706281\n",
      "Cost after iteration 19000: 0.704577\n",
      "Cost after iteration 20000: 0.703175\n",
      "Cost after iteration 21000: 0.701997\n",
      "Cost after iteration 22000: 0.700982\n",
      "Cost after iteration 23000: 0.700087\n",
      "Cost after iteration 24000: 0.699280\n",
      "Cost after iteration 25000: 0.698540\n",
      "Cost after iteration 26000: 0.697850\n",
      "Cost after iteration 27000: 0.697197\n",
      "Cost after iteration 28000: 0.696574\n",
      "Cost after iteration 29000: 0.695975\n",
      "Cost after iteration 30000: 0.695394\n",
      "Cost after iteration 31000: 0.694830\n",
      "Cost after iteration 32000: 0.694280\n",
      "Cost after iteration 33000: 0.693743\n",
      "Cost after iteration 34000: 0.693217\n",
      "Cost after iteration 35000: 0.692702\n",
      "Cost after iteration 36000: 0.692197\n",
      "Cost after iteration 37000: 0.691702\n",
      "Cost after iteration 38000: 0.691217\n",
      "Cost after iteration 39000: 0.690741\n",
      "Cost after iteration 40000: 0.690274\n",
      "Cost after iteration 41000: 0.689817\n",
      "Cost after iteration 42000: 0.689369\n",
      "Cost after iteration 43000: 0.688931\n",
      "Cost after iteration 44000: 0.688501\n",
      "Cost after iteration 45000: 0.688081\n",
      "Cost after iteration 46000: 0.687669\n",
      "Cost after iteration 47000: 0.687267\n",
      "Cost after iteration 48000: 0.686874\n",
      "Cost after iteration 49000: 0.686489\n",
      "Cost after iteration 50000: 0.686114\n",
      "Cost after iteration 51000: 0.685747\n",
      "Cost after iteration 52000: 0.685390\n",
      "Cost after iteration 53000: 0.685041\n",
      "Cost after iteration 54000: 0.684700\n",
      "Cost after iteration 55000: 0.684368\n",
      "Cost after iteration 56000: 0.684045\n",
      "Cost after iteration 57000: 0.683730\n",
      "Cost after iteration 58000: 0.683423\n",
      "Cost after iteration 59000: 0.683125\n",
      "Cost after iteration 60000: 0.682834\n",
      "Cost after iteration 61000: 0.682552\n",
      "Cost after iteration 62000: 0.682277\n",
      "Cost after iteration 63000: 0.682010\n",
      "Cost after iteration 64000: 0.681750\n",
      "Cost after iteration 65000: 0.681498\n",
      "Cost after iteration 66000: 0.681253\n",
      "Cost after iteration 67000: 0.681015\n",
      "Cost after iteration 68000: 0.680784\n",
      "Cost after iteration 69000: 0.680560\n",
      "Cost after iteration 70000: 0.680343\n",
      "Cost after iteration 71000: 0.680132\n",
      "Cost after iteration 72000: 0.679928\n",
      "Cost after iteration 73000: 0.679730\n",
      "Cost after iteration 74000: 0.679538\n",
      "Cost after iteration 75000: 0.679352\n",
      "Cost after iteration 76000: 0.679172\n",
      "Cost after iteration 77000: 0.678998\n",
      "Cost after iteration 78000: 0.678829\n",
      "Cost after iteration 79000: 0.678665\n",
      "Cost after iteration 80000: 0.678507\n",
      "Cost after iteration 81000: 0.678354\n",
      "Cost after iteration 82000: 0.678205\n",
      "Cost after iteration 83000: 0.678062\n",
      "Cost after iteration 84000: 0.677923\n",
      "Cost after iteration 85000: 0.677789\n",
      "Cost after iteration 86000: 0.677659\n",
      "Cost after iteration 87000: 0.677533\n",
      "Cost after iteration 88000: 0.677411\n",
      "Cost after iteration 89000: 0.677294\n",
      "Cost after iteration 90000: 0.677180\n",
      "Cost after iteration 91000: 0.677070\n",
      "Cost after iteration 92000: 0.676964\n",
      "Cost after iteration 93000: 0.676861\n",
      "Cost after iteration 94000: 0.676762\n",
      "Cost after iteration 95000: 0.676666\n",
      "Cost after iteration 96000: 0.676573\n",
      "Cost after iteration 97000: 0.676483\n",
      "Cost after iteration 98000: 0.676396\n",
      "Cost after iteration 99000: 0.676312\n",
      "Cost after iteration 100000: 0.676230\n",
      "Cost after iteration 101000: 0.676152\n",
      "Cost after iteration 102000: 0.676076\n",
      "Cost after iteration 103000: 0.676002\n",
      "Cost after iteration 104000: 0.675931\n",
      "Cost after iteration 105000: 0.675862\n",
      "Cost after iteration 106000: 0.675796\n",
      "Cost after iteration 107000: 0.675731\n",
      "Cost after iteration 108000: 0.675669\n",
      "Cost after iteration 109000: 0.675608\n",
      "Cost after iteration 110000: 0.675550\n",
      "Cost after iteration 111000: 0.675493\n",
      "Cost after iteration 112000: 0.675439\n",
      "Cost after iteration 113000: 0.675385\n",
      "Cost after iteration 114000: 0.675334\n",
      "Cost after iteration 115000: 0.675284\n",
      "Cost after iteration 116000: 0.675236\n",
      "Cost after iteration 117000: 0.675189\n",
      "Cost after iteration 118000: 0.675144\n",
      "Cost after iteration 119000: 0.675100\n",
      "Cost after iteration 120000: 0.675057\n",
      "Cost after iteration 121000: 0.675016\n",
      "Cost after iteration 122000: 0.674975\n",
      "Cost after iteration 123000: 0.674936\n",
      "Cost after iteration 124000: 0.674898\n",
      "Cost after iteration 125000: 0.674862\n",
      "Cost after iteration 126000: 0.674826\n",
      "Cost after iteration 127000: 0.674791\n",
      "Cost after iteration 128000: 0.674757\n",
      "Cost after iteration 129000: 0.674725\n",
      "Cost after iteration 130000: 0.674693\n",
      "Cost after iteration 131000: 0.674662\n",
      "Cost after iteration 132000: 0.674631\n",
      "Cost after iteration 133000: 0.674602\n",
      "Cost after iteration 134000: 0.674573\n",
      "Cost after iteration 135000: 0.674545\n",
      "Cost after iteration 136000: 0.674518\n",
      "Cost after iteration 137000: 0.674492\n",
      "Cost after iteration 138000: 0.674466\n",
      "Cost after iteration 139000: 0.674441\n",
      "Cost after iteration 140000: 0.674416\n",
      "Cost after iteration 141000: 0.674392\n",
      "Cost after iteration 142000: 0.674369\n",
      "Cost after iteration 143000: 0.674346\n",
      "Cost after iteration 144000: 0.674324\n",
      "Cost after iteration 145000: 0.674302\n",
      "Cost after iteration 146000: 0.674281\n",
      "Cost after iteration 147000: 0.674260\n",
      "Cost after iteration 148000: 0.674239\n",
      "Cost after iteration 149000: 0.674219\n",
      "Cost after iteration 150000: 0.674200\n",
      "Cost after iteration 151000: 0.674181\n",
      "Cost after iteration 152000: 0.674162\n",
      "Cost after iteration 153000: 0.674144\n",
      "Cost after iteration 154000: 0.674126\n",
      "Cost after iteration 155000: 0.674108\n",
      "Cost after iteration 156000: 0.674091\n",
      "Cost after iteration 157000: 0.674074\n",
      "Cost after iteration 158000: 0.674057\n",
      "Cost after iteration 159000: 0.674041\n",
      "Cost after iteration 160000: 0.674025\n",
      "Cost after iteration 161000: 0.674009\n",
      "Cost after iteration 162000: 0.673994\n",
      "Cost after iteration 163000: 0.673978\n",
      "Cost after iteration 164000: 0.673963\n",
      "Cost after iteration 165000: 0.673949\n",
      "Cost after iteration 166000: 0.673934\n",
      "Cost after iteration 167000: 0.673920\n",
      "Cost after iteration 168000: 0.673906\n",
      "Cost after iteration 169000: 0.673892\n",
      "Cost after iteration 170000: 0.673879\n",
      "Cost after iteration 171000: 0.673865\n",
      "Cost after iteration 172000: 0.673852\n",
      "Cost after iteration 173000: 0.673839\n",
      "Cost after iteration 174000: 0.673826\n",
      "Cost after iteration 175000: 0.673814\n",
      "Cost after iteration 176000: 0.673801\n",
      "Cost after iteration 177000: 0.673789\n",
      "Cost after iteration 178000: 0.673777\n",
      "Cost after iteration 179000: 0.673765\n",
      "Cost after iteration 180000: 0.673753\n",
      "Cost after iteration 181000: 0.673741\n",
      "Cost after iteration 182000: 0.673730\n",
      "Cost after iteration 183000: 0.673718\n",
      "Cost after iteration 184000: 0.673707\n",
      "Cost after iteration 185000: 0.673696\n",
      "Cost after iteration 186000: 0.673685\n",
      "Cost after iteration 187000: 0.673674\n",
      "Cost after iteration 188000: 0.673664\n",
      "Cost after iteration 189000: 0.673653\n",
      "Cost after iteration 190000: 0.673642\n",
      "Cost after iteration 191000: 0.673632\n",
      "Cost after iteration 192000: 0.673622\n",
      "Cost after iteration 193000: 0.673612\n",
      "Cost after iteration 194000: 0.673602\n",
      "Cost after iteration 195000: 0.673592\n",
      "Cost after iteration 196000: 0.673582\n",
      "Cost after iteration 197000: 0.673572\n",
      "Cost after iteration 198000: 0.673562\n",
      "Cost after iteration 199000: 0.673553\n"
     ]
    },
    {
     "data": {
      "text/plain": [
       "(365, 1)"
      ]
     },
     "execution_count": 49,
     "metadata": {},
     "output_type": "execute_result"
    }
   ],
   "source": [
    "training_label.shape = [training_label.shape[0],1]\n",
    "parameters = nn_model(training_sets, training_label.T, 5, num_iterations=200000, print_cost=True)\n",
    "training_label.shape"
   ]
  },
  {
   "cell_type": "code",
   "execution_count": 50,
   "metadata": {},
   "outputs": [],
   "source": [
    "def predict(parameters, X):\n",
    "    A2, cache = forward_propagation(X, parameters)\n",
    "    predictions = 0+(A2>0.5)\n",
    "    return predictions"
   ]
  },
  {
   "cell_type": "code",
   "execution_count": 51,
   "metadata": {},
   "outputs": [],
   "source": [
    "predictions = predict(parameters, training_sets)\n",
    "#print ('Accuracy: %d' % np.sum((np.dot(training_label,predictions) + np.dot(1-training_label,1-predictions))/float(training_label.size**2)*100) + '%')\n",
    "predictions = predictions.tolist()\n",
    "predictions = predictions[0]"
   ]
  },
  {
   "cell_type": "code",
   "execution_count": 52,
   "metadata": {},
   "outputs": [
    {
     "name": "stdout",
     "output_type": "stream",
     "text": [
      "The return of the model on train set is:  13.38448317021792 %\n"
     ]
    },
    {
     "data": {
      "text/plain": [
       "1.1338448317021792"
      ]
     },
     "execution_count": 52,
     "metadata": {},
     "output_type": "execute_result"
    }
   ],
   "source": [
    "principal = 1\n",
    "for i in range(len(predictions)):\n",
    "    if (predictions[i] == 1):\n",
    "        principal = principal*(1+daily_return[35+i])\n",
    "print(\"The return of the model on train set is: \",(principal-1)*100,\"%\")\n",
    "principal"
   ]
  },
  {
   "cell_type": "code",
   "execution_count": 53,
   "metadata": {},
   "outputs": [
    {
     "name": "stdout",
     "output_type": "stream",
     "text": [
      "The return of holding is:  83.45763168745854 %\n"
     ]
    },
    {
     "data": {
      "text/plain": [
       "1.8345763168745854"
      ]
     },
     "execution_count": 53,
     "metadata": {},
     "output_type": "execute_result"
    }
   ],
   "source": [
    "principal = 1\n",
    "for i in range(len(predictions)):\n",
    "    principal = principal*(1+daily_return[35+i])\n",
    "print(\"The return of holding is: \",(principal-1)*100,\"%\")\n",
    "principal"
   ]
  },
  {
   "cell_type": "code",
   "execution_count": 54,
   "metadata": {},
   "outputs": [],
   "source": [
    "test_sets = []\n",
    "test_label = []\n",
    "Close_t = [[], [], [], [], []] #5 lists for 5 days closing prices\n",
    "MA15_t = [[], [], [], [], []]\n",
    "RSI_t = [[], [], [], [], []]\n",
    "Vol_t = [[], [], [], [], []]\n",
    "MACD_t = [[], [], [], [], []]\n",
    "Sig_t = [[], [], [], [], []]\n",
    "for i in range(401, 601):\n",
    "    for j in range(5):\n",
    "        #Open.append(open_price[i+j-4])\n",
    "        Close_t[j].append(float(close_price[i+j-4]))\n",
    "        #High_list.append(high_price[i+j-4])\n",
    "        #_list.append(low_price[i+j-4])\n",
    "        MA15_t[j].append(float(ma_15days[i+j-4]))\n",
    "        RSI_t[j].append(float(rsi[i+j-4]))\n",
    "        Vol_t[j].append(float(volume[i+j-4]))\n",
    "        MACD_t[j].append(float(macd[i+j-4]))\n",
    "        Sig_t[j].append(float(signal[i+j-4]))\n",
    "for j in range(5):\n",
    "    test_sets.append(Close_t[j])\n",
    "    test_sets.append(MA15_t[j])\n",
    "    test_sets.append(RSI_t[j])\n",
    "    test_sets.append(Vol_t[j])\n",
    "    test_sets.append(MACD_t[j])\n",
    "    test_sets.append(Sig_t[j])\n",
    "test_sets = np.array(test_sets)\n",
    "test_label = np.array(test_label)"
   ]
  },
  {
   "cell_type": "code",
   "execution_count": 55,
   "metadata": {},
   "outputs": [
    {
     "name": "stdout",
     "output_type": "stream",
     "text": [
      "Accuracy: 28%\n"
     ]
    }
   ],
   "source": [
    "predictions = predict(parameters, test_sets)\n",
    "print ('Accuracy: %d' % np.sum((np.dot(training_label,predictions) + np.dot(1-training_label,1-predictions))/float(training_label.size**2)*100) + '%')\n",
    "predictions = predictions.tolist()\n",
    "predictions = predictions[0]"
   ]
  },
  {
   "cell_type": "code",
   "execution_count": 56,
   "metadata": {},
   "outputs": [
    {
     "name": "stdout",
     "output_type": "stream",
     "text": [
      "The return of the model on test set is:  67.08994930368742 %\n"
     ]
    },
    {
     "data": {
      "text/plain": [
       "1.6708994930368741"
      ]
     },
     "execution_count": 56,
     "metadata": {},
     "output_type": "execute_result"
    }
   ],
   "source": [
    "principal = 1\n",
    "for i in range(len(predictions)):\n",
    "    if (predictions[i] == 1):\n",
    "        principal = principal*(1+daily_return[400+i])\n",
    "print(\"The return of the model on test set is: \",(principal-1)*100,\"%\")\n",
    "principal"
   ]
  },
  {
   "cell_type": "code",
   "execution_count": 57,
   "metadata": {},
   "outputs": [
    {
     "name": "stdout",
     "output_type": "stream",
     "text": [
      "The return of holding is:  154.52504595074424 %\n"
     ]
    }
   ],
   "source": [
    "for i in range(len(predictions)):\n",
    "    principal = principal*(1+daily_return[400+i])\n",
    "print(\"The return of holding is: \",(principal-1)*100,\"%\")"
   ]
  },
  {
   "cell_type": "code",
   "execution_count": null,
   "metadata": {},
   "outputs": [],
   "source": []
  }
 ],
 "metadata": {
  "kernelspec": {
   "display_name": "Python 3",
   "language": "python",
   "name": "python3"
  },
  "language_info": {
   "codemirror_mode": {
    "name": "ipython",
    "version": 3
   },
   "file_extension": ".py",
   "mimetype": "text/x-python",
   "name": "python",
   "nbconvert_exporter": "python",
   "pygments_lexer": "ipython3",
   "version": "3.8.3"
  }
 },
 "nbformat": 4,
 "nbformat_minor": 4
}
