{
 "cells": [
  {
   "cell_type": "code",
   "execution_count": null,
   "metadata": {},
   "outputs": [],
   "source": [
    "import csv"
   ]
  },
  {
   "cell_type": "code",
   "execution_count": null,
   "metadata": {},
   "outputs": [],
   "source": [
    "open_price = {}\n",
    "close_price = {}\n",
    "high_price = {}\n",
    "low_price = {}\n",
    "volume = {}\n",
    "ma_15days = {}\n",
    "rsi = {}\n",
    "daily_return = {}\n",
    "macd = {}\n",
    "signal = {}\n",
    "for i in range(1,10000):\n",
    "    if i < 10:\n",
    "        string = \"000\" + str(i) + \".HK.csv\"\n",
    "    elif i < 100:\n",
    "        string = \"00\" + str(i) + \".HK.csv\"\n",
    "    elif i < 1000:\n",
    "        string = \"0\" + str(i) + \".HK.csv\"\n",
    "    else:\n",
    "        string = str(i) + \".HK.csv\"\n",
    "    try :\n",
    "        open(string)\n",
    "    except FileNotFoundError:\n",
    "        continue\n",
    "    with open(string) as csv_file:\n",
    "        csv_reader = csv.reader(csv_file, delimiter=',')\n",
    "        next(csv_reader)\n",
    "        open_price[i] = []\n",
    "        close_price[i] = []\n",
    "        high_price[i] = []\n",
    "        low_price[i] = []\n",
    "        volume[i] = []\n",
    "        ma_15days[i] = []\n",
    "        rsi[i] = []\n",
    "        daily_return[i] = []\n",
    "        macd[i] = []\n",
    "        signal[i] = []\n",
    "        for row in csv_reader:\n",
    "            open_price[i].append(row[3])\n",
    "            close_price[i].append(row[2])\n",
    "            high_price[i].append(row[4])\n",
    "            low_price[i].append(row[5])\n",
    "            volume[i].append(row[7])\n",
    "            daily_return[i].append(row[9])\n",
    "            ma_15days[i].append(row[16])\n",
    "            rsi[i].append(row[17])\n",
    "            macd[i].append(row[24])\n",
    "            signal[i].append(row[25])\n",
    "        daily_return[0] = 0\n",
    "        for j in range(15):\n",
    "            ma_15days[j] = 0\n",
    "            rsi[j] = 0\n",
    "        for j in range(25):\n",
    "            macd[j] = 0\n",
    "        for j in range(33):\n",
    "            signal[j] = 0\n",
    "        for j in range(len(open_price)):\n",
    "            open_price[i][j] = float(open_price[i][j])\n",
    "            close_price[i][j] = float(close_price[i][j])\n",
    "            high_price[i][j] = float(high_price[i][j])\n",
    "            low_price[i][j] = float(low_price[i][j])\n",
    "            volume[i][j] = float(volume[i][j])\n",
    "            daily_return[i][j] = float(daily_return[i][j])\n",
    "            ma_15days[i][j] = float(ma_15days[i][j])\n",
    "            rsi[i][j] = float(rsi[i][j])\n",
    "            macd[i][j] = float(macd[i][j])\n",
    "            signal[i][j] = float(signal[i][j])"
   ]
  },
  {
   "cell_type": "code",
   "execution_count": null,
   "metadata": {},
   "outputs": [],
   "source": [
    "rsi_universe = {}\n",
    "for w in rsi.keys():\n",
    "    rsi_single_stock = {}\n",
    "    for i in range(1,51): #iterate through 1 to 50 lookback periods\n",
    "        rsi_collection = []\n",
    "        for j in range(51,len(rsi)-1): #iterate through the first date to the last\n",
    "            daily_value = []\n",
    "            for k in range(j-i,j): #this would create a list with the length of lookback period\n",
    "                daily_value.append(rsi[w][k])\n",
    "            rsi_collection.append(daily_value)\n",
    "        rsi_single_stock[i] = rsi_collection\n",
    "    rsi_universe[i] = rsi_single_stock"
   ]
  },
  {
   "cell_type": "code",
   "execution_count": null,
   "metadata": {},
   "outputs": [],
   "source": [
    "macd_universe = {}\n",
    "for w in macd.keys():\n",
    "    macd_single_stock = {}\n",
    "    for i in range(1,51):\n",
    "        macd_collection = []\n",
    "        for j in range(51,len(macd)-1):\n",
    "            daily_value = []\n",
    "            for k in range(j-i ,j):\n",
    "                daily_value.append(macd[k])\n",
    "            macd_collection.append(daily_value)\n",
    "        macd_single_stock[i] = macd_collection\n",
    "    macd_universe[w] = macd_single_stock"
   ]
  },
  {
   "cell_type": "code",
   "execution_count": null,
   "metadata": {},
   "outputs": [],
   "source": [
    "signal_universe = {}\n",
    "for w in signal.keys():\n",
    "    signal_single_stock = {}\n",
    "    for i in range(1,51):\n",
    "        signal_collection = []\n",
    "        for j in range(51,len(signal)-1):\n",
    "            daily_value = []\n",
    "            for k in range(j-i,j):\n",
    "                daily_value.append(signal[k])\n",
    "            signal_collection.append(daily_value)\n",
    "        signal_single_stock[i] = signal_collection\n",
    "    signal_universe[w] = signal_single_stock"
   ]
  },
  {
   "cell_type": "code",
   "execution_count": null,
   "metadata": {},
   "outputs": [],
   "source": [
    "one_day_return_universe = {}\n",
    "five_day_return_universe = {}\n",
    "ten_day_return_universe = {}\n",
    "for w in daily_return.keys():\n",
    "    one_day_return_single_stock = {}\n",
    "    five_day_return_single_stock = {}\n",
    "    ten_day_return_single_stock = {}\n",
    "    for i in range(52,len(daily_return)):\n",
    "        one_day_return_single_stock[i] = daily_return[w][i]\n",
    "    for i in range(52,len(daily_return)):\n",
    "        five_day_actual_return = 1\n",
    "        for j in range(5):\n",
    "            five_day_actual_return = five_day_actual_return * (1 + (daily_return[w][(i+j)] if (i+j) <= len(daily_return[w]) - 1 else 0)\n",
    "        five_day_return_single_stock[i] = five_day_actual_return\n",
    "    for i in range(52,len(daily_return)):\n",
    "        ten_day_actual_return = 1\n",
    "        for j in range(10):\n",
    "            ten_day_actual_return = ten_day_actual_return * (1 + (daily_return[w][(i+j)] if (i+j) <= len(daily_return[w]) - 1 else 0)\n",
    "        ten_day_return_single_stock[i] = ten_day_actual_return\n",
    "    one_day_return_universe[w] = one_day_return_single_stock\n",
    "    five_day_return_universe[w] = five_day_return_single_stock\n",
    "    ten_day_return_universe[w] = ten_day_return_single_stock"
   ]
  },
  {
   "cell_type": "code",
   "execution_count": null,
   "metadata": {},
   "outputs": [],
   "source": [
    "import numpy as np"
   ]
  },
  {
   "cell_type": "code",
   "execution_count": null,
   "metadata": {},
   "outputs": [],
   "source": [
    "#to see how the average of macd correlates with 10-day return data\n",
    "average_macd_list_ten = []\n",
    "y_list = []\n",
    "for w in macd_universe.keys():\n",
    "    for i in range (len(macd_universe[w][10])):\n",
    "        average_macd_list_ten.append(sum(macd_universe[w][10][i])/10) #storing macd average of 10 lookback days\n",
    "for w in ten_day_return_universe.keys():\n",
    "    for i in ten_day_return_universe[w].values():\n",
    "        y_list.append(i) #storing ten-day returns\n",
    "x_axis = np.array(average_macd_list_ten)\n",
    "y_axis = np.array(y_list)\n",
    "r = round(np.corrcoef(x_axis, y_axis)[0][1],4)\n",
    "print(\"The correlation is \" , r)"
   ]
  },
  {
   "cell_type": "code",
   "execution_count": null,
   "metadata": {},
   "outputs": [],
   "source": [
    "#to see how the average of macd correlates with 5-day return data\n",
    "average_macd_list_five = []\n",
    "y_list = []\n",
    "for w in macd_universe.keys():\n",
    "    for i in range (len(macd_universe[w][5])):\n",
    "        average_macd_list_ten.append(sum(macd_universe[w][5][i])/5) #storing macd average of 5 lookback days\n",
    "for w in five_day_return_universe.keys():\n",
    "    for i in five_day_return_universe[w].values():\n",
    "        y_list.append(i) #storing 5-day returns\n",
    "x_axis = np.array(average_macd_list_five)\n",
    "y_axis = np.array(y_list)\n",
    "r = round(np.corrcoef(x_axis, y_axis)[0][1],4)\n",
    "print(\"The correlation is \" , r)"
   ]
  },
  {
   "cell_type": "code",
   "execution_count": null,
   "metadata": {},
   "outputs": [],
   "source": [
    "#to see how the average of signal correlates with 10-day return data\n",
    "average_signal_list_ten = []\n",
    "y_list = []\n",
    "for w in signal_universe.keys():\n",
    "    for i in range (len(signal_universe[w][10])):\n",
    "        average_signal_list_ten.append(sum(signal_universe[w][10][i])/10) #storing macd average of 10 lookback days\n",
    "for w in ten_day_return_universe.keys():\n",
    "    for i in ten_day_return_universe[w].values():\n",
    "        y_list.append(i) #storing ten-day returns\n",
    "x_axis = np.array(average_signal_list_ten)\n",
    "y_axis = np.array(y_list)\n",
    "r = round(np.corrcoef(x_axis, y_axis)[0][1],4)\n",
    "print(\"The correlation is \" , r)"
   ]
  },
  {
   "cell_type": "code",
   "execution_count": null,
   "metadata": {},
   "outputs": [],
   "source": [
    "#to see how the average of signal correlates with 5-day return data\n",
    "average_signal_list_five = []\n",
    "y_list = []\n",
    "for w in signal_universe.keys():\n",
    "    for i in range (len(signal_universe[w][5])):\n",
    "        average_signal_list_five.append(sum(signal_universe[w][5][i])/5) #storing macd average of 10 lookback days\n",
    "for w in five_day_return_universe.keys():\n",
    "    for i in five_day_return_universe[w].values():\n",
    "        y_list.append(i) #storing ten-day returns\n",
    "x_axis = np.array(average_signal_list_ten)\n",
    "y_axis = np.array(y_list)\n",
    "r = round(np.corrcoef(x_axis, y_axis)[0][1],4)\n",
    "print(\"The correlation is \" , r)"
   ]
  },
  {
   "cell_type": "code",
   "execution_count": null,
   "metadata": {},
   "outputs": [],
   "source": [
    "#to see how the average of rsi correlates with 10-day return data\n",
    "average_rsi_list_ten = []\n",
    "y_list = []\n",
    "for w in rsi_universe.keys():\n",
    "    for i in range (len(rsi_universe[w][10])):\n",
    "        average_rsi_list_ten.append(sum(rsi_universe[w][10][i])/10) #storing macd average of 10 lookback days\n",
    "for w in ten_day_return_universe.keys():\n",
    "    for i in ten_day_return_universe[w].values():\n",
    "        y_list.append(i) #storing ten-day returns\n",
    "x_axis = np.array(average_rsi_list_ten)\n",
    "y_axis = np.array(y_list)\n",
    "r = round(np.corrcoef(x_axis, y_axis)[0][1],4)\n",
    "print(\"The correlation is \" , r)"
   ]
  },
  {
   "cell_type": "code",
   "execution_count": null,
   "metadata": {},
   "outputs": [],
   "source": [
    "#to see how the average of rsi correlates with 5-day return data\n",
    "average_rsi_list_five = []\n",
    "y_list = []\n",
    "for w in rsi_universe.keys():\n",
    "    for i in range (len(rsi_universe[w][5])):\n",
    "        average_rsi_list_five.append(sum(rsi_universe[w][5][i])/5) #storing macd average of 10 lookback days\n",
    "for w in five_day_return_universe.keys():\n",
    "    for i in five_day_return_universe[w].values():\n",
    "        y_list.append(i) #storing ten-day returns\n",
    "x_axis = np.array(average_rsi_list_five)\n",
    "y_axis = np.array(y_list)\n",
    "r = round(np.corrcoef(x_axis, y_axis)[0][1],4)\n",
    "print(\"The correlation is \" , r)"
   ]
  },
  {
   "cell_type": "code",
   "execution_count": null,
   "metadata": {},
   "outputs": [],
   "source": [
    "from sklearn import linear_model\n",
    "from sklearn.linear_model import LinearRegression"
   ]
  },
  {
   "cell_type": "code",
   "execution_count": null,
   "metadata": {},
   "outputs": [],
   "source": [
    "macd_signal_difference = []\n",
    "new_daily_return = []\n",
    "for w in macd.keys():\n",
    "    for i in len(macd[w]):\n",
    "        difference = macd[w][i] - signal[w][i]\n",
    "        macd_signal_difference.append(difference)\n",
    "        new_daily_return.append(daily_return[w][i])\n",
    "\n",
    "x_axis = np.array(macd_signal_difference)\n",
    "y_axis = np.array(new_daily_return)\n",
    "\n",
    "model = LinearRegression()\n",
    "model.fit(x_axis, y_axis)\n",
    "r_sq = model.score(x_axis, y_axis)\n",
    "\n",
    "print('alpha:', model.intercept_)\n",
    "print('beta:', float(model.coef_))\n",
    "print('r squared value:', r_sq)"
   ]
  },
  {
   "cell_type": "code",
   "execution_count": null,
   "metadata": {},
   "outputs": [],
   "source": [
    "import statsmodels.api as sm\n",
    "from scipy import stats"
   ]
  },
  {
   "cell_type": "code",
   "execution_count": null,
   "metadata": {},
   "outputs": [],
   "source": [
    "X2 = sm.add_constant(x_axis)\n",
    "est = sm.OLS(y_axis, X2)\n",
    "est2 = est.fit()\n",
    "print(est2.summary())"
   ]
  }
 ],
 "metadata": {
  "kernelspec": {
   "display_name": "Python 3",
   "language": "python",
   "name": "python3"
  },
  "language_info": {
   "codemirror_mode": {
    "name": "ipython",
    "version": 3
   },
   "file_extension": ".py",
   "mimetype": "text/x-python",
   "name": "python",
   "nbconvert_exporter": "python",
   "pygments_lexer": "ipython3",
   "version": "3.7.6"
  }
 },
 "nbformat": 4,
 "nbformat_minor": 4
}
